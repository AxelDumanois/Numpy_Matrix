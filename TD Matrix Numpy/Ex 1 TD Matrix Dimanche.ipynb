{
 "cells": [
  {
   "cell_type": "code",
   "execution_count": 1,
   "metadata": {},
   "outputs": [
    {
     "name": "stdout",
     "output_type": "stream",
     "text": [
      "[ 0  3  6  9 12 15 18 21 24 27 30 33 36 39 42 45 48 51 54 57 60 63 66 69\n",
      " 72 75 78 81 84 87 90 93 96 99]\n"
     ]
    }
   ],
   "source": [
    "import numpy as np\n",
    "A = np.arange (0, 100, 3)\n",
    "print(A)"
   ]
  },
  {
   "cell_type": "code",
   "execution_count": 4,
   "metadata": {},
   "outputs": [
    {
     "name": "stdout",
     "output_type": "stream",
     "text": [
      "[ 0.00000000e+00  1.00000000e+00 -2.20436424e-15  1.00000000e+00\n",
      " -8.81745695e-15  1.00000000e+00 -4.11555602e-14  1.00000000e+00\n",
      " -3.52698278e-14  1.00000000e+00 -7.64253880e-14  1.00000000e+00\n",
      " -1.64622241e-13  1.00000000e+00 -1.86173549e-13  1.00000000e+00\n",
      " -1.41079311e-13  1.00000000e+00 -4.84086880e-13  1.00000000e+00\n",
      " -3.05701552e-13  1.00000000e+00 -6.06706795e-14  1.00000000e+00\n",
      " -6.58488964e-13  1.00000000e+00 -1.18966170e-12  1.00000000e+00\n",
      " -7.44694194e-13  1.00000000e+00 -1.14257584e-12  1.00000000e+00\n",
      " -5.64317245e-13  1.00000000e+00]\n"
     ]
    }
   ],
   "source": [
    "B = np.sin((A **2) * (np.pi / 2))\n",
    "print(B)\n"
   ]
  },
  {
   "cell_type": "code",
   "execution_count": 9,
   "metadata": {},
   "outputs": [
    {
     "name": "stdout",
     "output_type": "stream",
     "text": [
      "1.0\n"
     ]
    },
    {
     "data": {
      "text/plain": [
       "17"
      ]
     },
     "execution_count": 9,
     "metadata": {},
     "output_type": "execute_result"
    }
   ],
   "source": [
    "C = B.max(axis = 0)\n",
    "print(C)\n",
    "B == 1 #SOLUTION 1\n",
    "sum(B == C)\n",
    "\n",
    "# SOLUTION 2 --> len(B[B==B.max()])\n",
    "\n",
    "# SOLUTION 3 \n",
    "# c= np.argwhere(B==B.max())\n",
    "# len(c)\n",
    "\n",
    "# SOLUTION 4\n",
    "# d= np.size(c)\n",
    "# d"
   ]
  },
  {
   "cell_type": "code",
   "execution_count": null,
   "metadata": {},
   "outputs": [],
   "source": []
  },
  {
   "cell_type": "code",
   "execution_count": null,
   "metadata": {},
   "outputs": [],
   "source": []
  },
  {
   "cell_type": "code",
   "execution_count": null,
   "metadata": {},
   "outputs": [],
   "source": []
  },
  {
   "cell_type": "code",
   "execution_count": null,
   "metadata": {},
   "outputs": [],
   "source": []
  }
 ],
 "metadata": {
  "kernelspec": {
   "display_name": "Python 3",
   "language": "python",
   "name": "python3"
  },
  "language_info": {
   "codemirror_mode": {
    "name": "ipython",
    "version": 3
   },
   "file_extension": ".py",
   "mimetype": "text/x-python",
   "name": "python",
   "nbconvert_exporter": "python",
   "pygments_lexer": "ipython3",
   "version": "3.7.0"
  }
 },
 "nbformat": 4,
 "nbformat_minor": 2
}
