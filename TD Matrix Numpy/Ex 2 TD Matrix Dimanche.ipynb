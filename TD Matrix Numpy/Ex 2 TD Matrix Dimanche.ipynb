{
 "cells": [
  {
   "cell_type": "code",
   "execution_count": 27,
   "metadata": {},
   "outputs": [
    {
     "name": "stdout",
     "output_type": "stream",
     "text": [
      "[[6 2 3 5]\n",
      " [0 6 2 6]\n",
      " [0 0 6 7]\n",
      " [0 0 0 8]]\n",
      "\n",
      "\n",
      "[[6 0 0 0]\n",
      " [4 6 0 0]\n",
      " [1 3 6 0]\n",
      " [3 6 3 8]]\n",
      "\n",
      "\n",
      "[[6 0 0 0]\n",
      " [0 6 0 0]\n",
      " [0 0 6 0]\n",
      " [0 0 0 8]]\n",
      "\n",
      "\n",
      "\n",
      "\n",
      "True\n",
      "True\n",
      "True\n"
     ]
    }
   ],
   "source": [
    "import numpy as np\n",
    "\n",
    "A = [[6,2,3,5],[4,6,2,6],[1,3,6,7],[3,6,3,8]]\n",
    "Z = [[6,2,3,5],[4,6,2,6],[1,3,6,7],[3,6,3,8]]\n",
    "\n",
    "B = np.triu(Z)\n",
    "print(B)\n",
    "print(\"\\n\")\n",
    "\n",
    "C = np.tril(Z)\n",
    "print(C)\n",
    "print(\"\\n\")\n",
    "\n",
    "D = np.triu(C)\n",
    "print(D)\n",
    "\n",
    "A == B\n",
    "\n",
    "M = np.eye(0)\n",
    "def est_diagonal(M):\n",
    "    return True if (M == np.triu(np.tril(M))).all() else False\n",
    "\n",
    "def est_triangulaire_sup(M):\n",
    "    return True if (M == np.tril(M)).all() else False\n",
    "print(\"\\n\")\n",
    "\n",
    "def est_triangulaire_inf(M):\n",
    "    return True if (M == np.triu(M)).all() else False # \"True\" et \"False\" sont déjà induits par le \"return\"\n",
    "print(\"\\n\")\n",
    "\n",
    "\n",
    "print(est_diagonal(M))\n",
    "\n",
    "print(est_triangulaire_sup(M))\n",
    "\n",
    "print(est_triangulaire_inf(M))\n"
   ]
  },
  {
   "cell_type": "code",
   "execution_count": null,
   "metadata": {},
   "outputs": [],
   "source": []
  }
 ],
 "metadata": {
  "kernelspec": {
   "display_name": "Python 3",
   "language": "python",
   "name": "python3"
  },
  "language_info": {
   "codemirror_mode": {
    "name": "ipython",
    "version": 3
   },
   "file_extension": ".py",
   "mimetype": "text/x-python",
   "name": "python",
   "nbconvert_exporter": "python",
   "pygments_lexer": "ipython3",
   "version": "3.7.0"
  }
 },
 "nbformat": 4,
 "nbformat_minor": 2
}
