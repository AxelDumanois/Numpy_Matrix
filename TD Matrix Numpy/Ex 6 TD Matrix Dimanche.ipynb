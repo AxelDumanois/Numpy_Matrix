{
 "cells": [
  {
   "cell_type": "code",
   "execution_count": 9,
   "metadata": {},
   "outputs": [
    {
     "name": "stdout",
     "output_type": "stream",
     "text": [
      "[[0.72829961 0.96332757 0.12522036 ... 0.91763026 0.57236657 0.84431484]\n",
      " [0.70780932 0.15873237 0.99885123 ... 0.51156379 0.17767484 0.224648  ]\n",
      " [0.93457016 0.80233679 0.4047437  ... 0.11000861 0.88213993 0.60080366]\n",
      " ...\n",
      " [0.41783372 0.51950213 0.98448914 ... 0.82136141 0.36831199 0.17564671]\n",
      " [0.62509584 0.97719671 0.59536506 ... 0.2188249  0.1345408  0.80343412]\n",
      " [0.56401273 0.64910472 0.56778074 ... 0.2396491  0.27097546 0.08885917]]\n",
      "\n",
      "\n",
      "1224\n",
      "[[1 1 0 ... 1 1 1]\n",
      " [1 0 1 ... 1 0 0]\n",
      " [1 1 0 ... 0 1 1]\n",
      " ...\n",
      " [0 1 1 ... 1 0 0]\n",
      " [1 1 1 ... 0 0 1]\n",
      " [1 1 1 ... 0 0 0]]\n",
      "\n",
      "\n",
      "[1. 1. 1. 1. 1. 1. 1. 1. 1. 1. 1. 1. 1. 1. 1. 1. 1. 1. 1. 1. 1. 1. 1. 1.\n",
      " 1. 1. 1. 1. 1. 1. 1. 1. 1. 1. 1. 1. 1. 1. 1. 1. 1. 1. 1. 1. 1. 1. 1. 1.\n",
      " 1. 1.]\n",
      "[0. 0. 0. 0. 0. 0. 0. 0. 0. 0. 0. 0. 0. 0. 0. 0. 0. 0. 0. 0. 0. 0. 0. 0.\n",
      " 0. 0. 0. 0. 0. 0. 0. 0. 0. 0. 0. 0. 0. 0. 0. 0. 0. 0. 0. 0. 0. 0. 0. 0.\n",
      " 0. 0.]\n",
      "\n",
      "\n",
      "[[0. 0. 1. ... 0. 0. 0.]\n",
      " [0. 1. 0. ... 0. 1. 1.]\n",
      " [0. 0. 1. ... 1. 0. 0.]\n",
      " ...\n",
      " [1. 0. 0. ... 0. 1. 1.]\n",
      " [0. 0. 0. ... 1. 1. 0.]\n",
      " [0. 0. 0. ... 1. 1. 1.]]\n"
     ]
    }
   ],
   "source": [
    "import numpy as np\n",
    "\n",
    "A = np.random.rand(50, 50)                  # Matrice aléatoire de flottants\n",
    "print(A)\n",
    "\n",
    "count = np.count_nonzero(A <= 0.5)          # Compte le nombre de valeurs < à 0.5\n",
    "print(\"\\n\")\n",
    "print(count)\n",
    "\n",
    "B = (A > 0.5).astype(int)                   # Remplace toutes les valeurs < à 0.5 par 0 et les autres par 1\n",
    "print(B)\n",
    "print(\"\\n\")\n",
    "\n",
    "C = np.select (A <= 0.5, A)\n",
    "np.ceil(C)\n",
    "\n",
    "D = np.select (A > 0.5, A)\n",
    "np.floor(D)\n",
    "\n",
    "print(np.ceil(C))\n",
    "print(np.floor(D))\n",
    "print(\"\\n\")\n",
    "\n",
    "D = np.where (A, A < 0.5, 0.1)\n",
    "print(D)\n",
    "\n",
    "\n",
    "\n"
   ]
  },
  {
   "cell_type": "code",
   "execution_count": null,
   "metadata": {},
   "outputs": [],
   "source": []
  }
 ],
 "metadata": {
  "kernelspec": {
   "display_name": "Python 3",
   "language": "python",
   "name": "python3"
  },
  "language_info": {
   "codemirror_mode": {
    "name": "ipython",
    "version": 3
   },
   "file_extension": ".py",
   "mimetype": "text/x-python",
   "name": "python",
   "nbconvert_exporter": "python",
   "pygments_lexer": "ipython3",
   "version": "3.7.0"
  }
 },
 "nbformat": 4,
 "nbformat_minor": 2
}
