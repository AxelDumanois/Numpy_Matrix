{
 "cells": [
  {
   "cell_type": "code",
   "execution_count": 54,
   "metadata": {},
   "outputs": [
    {
     "name": "stdout",
     "output_type": "stream",
     "text": [
      "500000500000\n",
      "Temps d'execution = 0.046863\n"
     ]
    }
   ],
   "source": [
    "import numpy as np\n",
    "\n",
    "import time \n",
    "\n",
    "tmps1 = time.time()\n",
    "n = range(1000001)\n",
    "sum(n)\n",
    "tmps2 = time.time()-tmps1\n",
    "\n",
    "print(sum(n))\n",
    "print( \"Temps d'execution = %f\" %tmps2)\n"
   ]
  },
  {
   "cell_type": "code",
   "execution_count": 55,
   "metadata": {},
   "outputs": [
    {
     "name": "stdout",
     "output_type": "stream",
     "text": [
      "500000500000\n",
      "Temps d'execution = 0.015313\n"
     ]
    }
   ],
   "source": [
    "tmps1 = time.time()\n",
    "\n",
    "A = np.arange(0, 1000001)\n",
    "print(np.sum(A, dtype = np.int64))\n",
    "tmps2 = time.time()-tmps1\n",
    "\n",
    "print( \"Temps d'execution = %f\" %tmps2)"
   ]
  },
  {
   "cell_type": "code",
   "execution_count": null,
   "metadata": {},
   "outputs": [],
   "source": []
  },
  {
   "cell_type": "code",
   "execution_count": null,
   "metadata": {},
   "outputs": [],
   "source": []
  }
 ],
 "metadata": {
  "kernelspec": {
   "display_name": "Python 3",
   "language": "python",
   "name": "python3"
  },
  "language_info": {
   "codemirror_mode": {
    "name": "ipython",
    "version": 3
   },
   "file_extension": ".py",
   "mimetype": "text/x-python",
   "name": "python",
   "nbconvert_exporter": "python",
   "pygments_lexer": "ipython3",
   "version": "3.7.0"
  }
 },
 "nbformat": 4,
 "nbformat_minor": 2
}
